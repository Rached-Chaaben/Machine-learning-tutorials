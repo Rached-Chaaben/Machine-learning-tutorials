{
 "cells": [
  {
   "cell_type": "markdown",
   "id": "c33c1a75",
   "metadata": {},
   "source": [
    "# Logistic regression in Python with Scikit-Learn"
   ]
  },
  {
   "cell_type": "markdown",
   "id": "b9c9489f",
   "metadata": {},
   "source": [
    "This notebook is a tutorial for a basic supervied learning technique which is a logistic regression. It's a classification model rather than regression. Logistic regression is simple and efficient for binary classification. It works also for multiclass classification. \n",
    "\n",
    "In this notebook we will use a  a highly optimized version of logistic regression, implemented in scikit-learn. This model will be applied on a dataset for different patient to predict whether or not they have diabetes."
   ]
  },
  {
   "cell_type": "markdown",
   "id": "b027cb57",
   "metadata": {},
   "source": [
    "### 1. Importing libraries "
   ]
  },
  {
   "cell_type": "code",
   "execution_count": 33,
   "id": "9fd5c1f1",
   "metadata": {},
   "outputs": [],
   "source": [
    "import numpy as np\n",
    "import pandas as pd \n",
    "\n",
    "from sklearn.model_selection import train_test_split\n",
    "from sklearn.linear_model import LogisticRegression\n",
    "from sklearn.metrics import confusion_matrix, accuracy_score, recall_score, precision_score, f1_score, roc_auc_score, precision_recall_curve, roc_curve, plot_precision_recall_curve\n",
    "from sklearn.preprocessing import StandardScaler\n",
    "from matplotlib import pyplot"
   ]
  },
  {
   "cell_type": "markdown",
   "id": "846d93c4",
   "metadata": {},
   "source": [
    "### 2. Importing the data "
   ]
  },
  {
   "cell_type": "code",
   "execution_count": 2,
   "id": "6dc8991d",
   "metadata": {},
   "outputs": [],
   "source": [
    "df = pd.read_csv('diabetes.csv') # importation via pandas"
   ]
  },
  {
   "cell_type": "markdown",
   "id": "c1444b65",
   "metadata": {},
   "source": [
    "### 3. Understand the data "
   ]
  },
  {
   "cell_type": "code",
   "execution_count": 3,
   "id": "321b4222",
   "metadata": {},
   "outputs": [
    {
     "data": {
      "text/plain": [
       "(768, 9)"
      ]
     },
     "execution_count": 3,
     "metadata": {},
     "output_type": "execute_result"
    }
   ],
   "source": [
    "df.shape #it returns the dimension of the dataset (rows, columns)"
   ]
  },
  {
   "cell_type": "code",
   "execution_count": 4,
   "id": "d725c546",
   "metadata": {},
   "outputs": [
    {
     "data": {
      "text/html": [
       "<div>\n",
       "<style scoped>\n",
       "    .dataframe tbody tr th:only-of-type {\n",
       "        vertical-align: middle;\n",
       "    }\n",
       "\n",
       "    .dataframe tbody tr th {\n",
       "        vertical-align: top;\n",
       "    }\n",
       "\n",
       "    .dataframe thead th {\n",
       "        text-align: right;\n",
       "    }\n",
       "</style>\n",
       "<table border=\"1\" class=\"dataframe\">\n",
       "  <thead>\n",
       "    <tr style=\"text-align: right;\">\n",
       "      <th></th>\n",
       "      <th>Pregnancies</th>\n",
       "      <th>Glucose</th>\n",
       "      <th>BloodPressure</th>\n",
       "      <th>SkinThickness</th>\n",
       "      <th>Insulin</th>\n",
       "      <th>BMI</th>\n",
       "      <th>DiabetesPedigreeFunction</th>\n",
       "      <th>Age</th>\n",
       "      <th>Outcome</th>\n",
       "    </tr>\n",
       "  </thead>\n",
       "  <tbody>\n",
       "    <tr>\n",
       "      <th>0</th>\n",
       "      <td>6</td>\n",
       "      <td>148</td>\n",
       "      <td>72</td>\n",
       "      <td>35</td>\n",
       "      <td>0</td>\n",
       "      <td>33.6</td>\n",
       "      <td>0.627</td>\n",
       "      <td>50</td>\n",
       "      <td>1</td>\n",
       "    </tr>\n",
       "    <tr>\n",
       "      <th>1</th>\n",
       "      <td>1</td>\n",
       "      <td>85</td>\n",
       "      <td>66</td>\n",
       "      <td>29</td>\n",
       "      <td>0</td>\n",
       "      <td>26.6</td>\n",
       "      <td>0.351</td>\n",
       "      <td>31</td>\n",
       "      <td>0</td>\n",
       "    </tr>\n",
       "    <tr>\n",
       "      <th>2</th>\n",
       "      <td>8</td>\n",
       "      <td>183</td>\n",
       "      <td>64</td>\n",
       "      <td>0</td>\n",
       "      <td>0</td>\n",
       "      <td>23.3</td>\n",
       "      <td>0.672</td>\n",
       "      <td>32</td>\n",
       "      <td>1</td>\n",
       "    </tr>\n",
       "    <tr>\n",
       "      <th>3</th>\n",
       "      <td>1</td>\n",
       "      <td>89</td>\n",
       "      <td>66</td>\n",
       "      <td>23</td>\n",
       "      <td>94</td>\n",
       "      <td>28.1</td>\n",
       "      <td>0.167</td>\n",
       "      <td>21</td>\n",
       "      <td>0</td>\n",
       "    </tr>\n",
       "    <tr>\n",
       "      <th>4</th>\n",
       "      <td>0</td>\n",
       "      <td>137</td>\n",
       "      <td>40</td>\n",
       "      <td>35</td>\n",
       "      <td>168</td>\n",
       "      <td>43.1</td>\n",
       "      <td>2.288</td>\n",
       "      <td>33</td>\n",
       "      <td>1</td>\n",
       "    </tr>\n",
       "  </tbody>\n",
       "</table>\n",
       "</div>"
      ],
      "text/plain": [
       "   Pregnancies  Glucose  BloodPressure  SkinThickness  Insulin   BMI  \\\n",
       "0            6      148             72             35        0  33.6   \n",
       "1            1       85             66             29        0  26.6   \n",
       "2            8      183             64              0        0  23.3   \n",
       "3            1       89             66             23       94  28.1   \n",
       "4            0      137             40             35      168  43.1   \n",
       "\n",
       "   DiabetesPedigreeFunction  Age  Outcome  \n",
       "0                     0.627   50        1  \n",
       "1                     0.351   31        0  \n",
       "2                     0.672   32        1  \n",
       "3                     0.167   21        0  \n",
       "4                     2.288   33        1  "
      ]
     },
     "execution_count": 4,
     "metadata": {},
     "output_type": "execute_result"
    }
   ],
   "source": [
    "df.head() # by default, head dunction shows the first 5 rows. to show n rows, we type : df.head(n)"
   ]
  },
  {
   "cell_type": "markdown",
   "id": "2de79b78",
   "metadata": {},
   "source": [
    "### 4. Predicting model \n"
   ]
  },
  {
   "cell_type": "markdown",
   "id": "36dbf1ae",
   "metadata": {},
   "source": [
    "First, we will start by dividing the data into features and labels: separating the dependent variable from the independent variables."
   ]
  },
  {
   "cell_type": "code",
   "execution_count": 6,
   "id": "8fa14474",
   "metadata": {},
   "outputs": [],
   "source": [
    "x = df.iloc[:, 1:-1].values # label \n",
    "y = df.iloc[:, -1].values # features"
   ]
  },
  {
   "cell_type": "markdown",
   "id": "bb8ddc31",
   "metadata": {},
   "source": [
    "Here, we will split our data into training and test data."
   ]
  },
  {
   "cell_type": "code",
   "execution_count": 7,
   "id": "136571fb",
   "metadata": {},
   "outputs": [],
   "source": [
    "x_train, x_test, y_train, y_test = train_test_split(x, y, test_size = 0.2, random_state = 0) # 80%data for train and 20% for test"
   ]
  },
  {
   "cell_type": "markdown",
   "id": "20640af8",
   "metadata": {},
   "source": [
    "#### Scaling the data :\n",
    "Scaling is bringing all the values for all features between -1 and 1. Some machine learning models are influenced by whether the data is scaled or not and logistic regression is one of them. "
   ]
  },
  {
   "cell_type": "code",
   "execution_count": 8,
   "id": "da17e0e7",
   "metadata": {},
   "outputs": [],
   "source": [
    "sc = StandardScaler()\n",
    "x_train = sc.fit_transform(x_train)\n",
    "x_test = sc.transform(x_test)"
   ]
  },
  {
   "cell_type": "markdown",
   "id": "b4f6a718",
   "metadata": {},
   "source": [
    "#### Creating and training the logistic model "
   ]
  },
  {
   "cell_type": "code",
   "execution_count": 9,
   "id": "5dce2443",
   "metadata": {},
   "outputs": [
    {
     "data": {
      "text/plain": [
       "LogisticRegression()"
      ]
     },
     "execution_count": 9,
     "metadata": {},
     "output_type": "execute_result"
    }
   ],
   "source": [
    "classifier = LogisticRegression()\n",
    "classifier.fit(x_train, y_train)"
   ]
  },
  {
   "cell_type": "markdown",
   "id": "e8f3540b",
   "metadata": {},
   "source": [
    "#### Predicting results\n",
    "For our binary classification problem, we have four possible classifications outcome:\n",
    "\n",
    "    - predict 1 while it's in reality 1 : True positive TP\n",
    "    - predict 1 while it's in reality 0 : False positive FP\n",
    "    - predict 0 while it's in reality 0 : True negative TN\n",
    "    - predict 0 while it's in reality 1 : False negative NP \n",
    "The confusion metrix is as below :\n",
    "$$\\begin{bmatrix}\n",
    "TP & FN\\\\ \n",
    "FP & TN\n",
    "\\end{bmatrix}$$\n",
    "\n",
    "For the evaluation of our model we have different metrics:\n",
    "\n",
    "    - Accuracy : number of correct classifications/total number of classifications \n",
    "$$Accuracy=\\frac{TP+TN}{TP+TN+FP+FN}$$\n",
    "\n",
    "    - Recall : number of positive correct classifications/total number of actual positive \n",
    "$$Recall=\\frac{TP}{TP+FN}$$\n",
    "\n",
    "    - Precision : number of positive correct classifications/total number of predicted positive \n",
    "$$Precision=\\frac{TP}{TP+FP}$$\n",
    "\n",
    "    - F1 score :  \n",
    "$$Accuracy=2.\\frac{Recall .Precision}{Recall+Precision}$$\n",
    "    \n",
    "    \n",
    "    - ROC AUC : it measures the area under curve for the Roc curve. the model is better when the AUC is bigger."
   ]
  },
  {
   "cell_type": "code",
   "execution_count": 46,
   "id": "e2484fd3",
   "metadata": {},
   "outputs": [
    {
     "name": "stdout",
     "output_type": "stream",
     "text": [
      "- Confusion matrix : \n",
      " [[96 19]\n",
      " [11 28]]\n",
      "- Accuracy score :  0.81\n",
      "- Recall score :  0.6\n",
      "- Precision score :  0.72\n",
      "- F1 score :  0.65\n",
      "- ROC AUC :  0.85\n"
     ]
    }
   ],
   "source": [
    "predictions = classifier.predict(x_test)\n",
    "predictions_probs = classifier.predict_proba(x_test)[:, 1]\n",
    "cm = confusion_matrix(predictions, y_test)\n",
    "print('- Confusion matrix : \\n', cm)\n",
    "print('- Accuracy score : ', round(accuracy_score(y_test, predictions), 2))\n",
    "print('- Recall score : ', round(recall_score(y_test, predictions), 2))\n",
    "print('- Precision score : ', round(precision_score(y_test, predictions), 2))\n",
    "print('- F1 score : ', round(f1_score(y_test, predictions), 2))\n",
    "print('- ROC AUC : ', round(roc_auc_score(y_test, predictions_probs), 2))"
   ]
  },
  {
   "cell_type": "markdown",
   "id": "ec4dc5f3",
   "metadata": {},
   "source": [
    "* Roc Curve"
   ]
  },
  {
   "cell_type": "code",
   "execution_count": 64,
   "id": "ba0677a3",
   "metadata": {},
   "outputs": [
    {
     "data": {
      "image/png": "[encoded data removed]",
      "text/plain": [
       "<Figure size 432x288 with 1 Axes>"
      ]
     },
     "metadata": {
      "needs_background": "light"
     },
     "output_type": "display_data"
    }
   ],
   "source": [
    "lr_fpr, lr_tpr, thresholds = roc_curve(y_test, predictions_probs)\n",
    "pyplot.plot(lr_fpr, lr_tpr, marker='.', label='Logistic')\n",
    "pyplot.xlabel('False Positive Rate')\n",
    "pyplot.ylabel('True Positive Rate')\n",
    "pyplot.legend()\n",
    "pyplot.show()"
   ]
  },
  {
   "cell_type": "markdown",
   "id": "d10c29ba",
   "metadata": {},
   "source": [
    "* Recall-precision curve"
   ]
  },
  {
   "cell_type": "code",
   "execution_count": 15,
   "id": "cdc7af1e",
   "metadata": {},
   "outputs": [
    {
     "data": {
      "image/png": "[encoded data removed]",
      "text/plain": [
       "<Figure size 432x288 with 1 Axes>"
      ]
     },
     "metadata": {
      "needs_background": "light"
     },
     "output_type": "display_data"
    }
   ],
   "source": [
    "disp = plot_precision_recall_curve(classifier, x_test, y_test)"
   ]
  },
  {
   "cell_type": "markdown",
   "id": "68718958",
   "metadata": {},
   "source": [
    "* How to choose the best threshold with maximizing the accuracy score ?"
   ]
  },
  {
   "cell_type": "code",
   "execution_count": 63,
   "id": "8a85b4f1",
   "metadata": {},
   "outputs": [
    {
     "data": {
      "image/png": "[encoded data removed]",
      "text/plain": [
       "<Figure size 432x288 with 1 Axes>"
      ]
     },
     "metadata": {
      "needs_background": "light"
     },
     "output_type": "display_data"
    }
   ],
   "source": [
    "accuracy_ls = []\n",
    "for thres in thresholds:\n",
    "    y_pred = np.where(predictions_probs>thres,1,0)\n",
    "    # Apply desired utility function to y_preds, for example accuracy.\n",
    "    accuracy_ls.append(accuracy_score(y_test, y_pred, normalize=True))\n",
    "    \n",
    "pyplot.plot(thresholds[1:], accuracy_ls[1:], marker='.', label='Logistic')\n",
    "pyplot.xlabel('Thresholds')\n",
    "pyplot.ylabel('Accuracy')\n",
    "pyplot.legend()\n",
    "pyplot.show()"
   ]
  },
  {
   "cell_type": "markdown",
   "id": "cfd840f4",
   "metadata": {},
   "source": [
    "* From the last curve, the best threshold is around 0.5 and 0.7."
   ]
  }
 ],
 "metadata": {
  "kernelspec": {
   "display_name": "Python 3 (ipykernel)",
   "language": "python",
   "name": "python3"
  },
  "language_info": {
   "codemirror_mode": {
    "name": "ipython",
    "version": 3
   },
   "file_extension": ".py",
   "mimetype": "text/x-python",
   "name": "python",
   "nbconvert_exporter": "python",
   "pygments_lexer": "ipython3",
   "version": "3.8.10"
  }
 },
 "nbformat": 4,
 "nbformat_minor": 5
}
